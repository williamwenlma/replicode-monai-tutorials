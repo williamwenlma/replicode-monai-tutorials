{
 "cells": [
  {
   "cell_type": "markdown",
   "id": "45e00dc0",
   "metadata": {},
   "source": [
    "# Set up environment"
   ]
  },
  {
   "cell_type": "code",
   "execution_count": 1,
   "id": "aee0f152",
   "metadata": {},
   "outputs": [],
   "source": [
    "!python -c \"import monai\" || pip install -q \"monai-weekly[nibabel]\"\n",
    "!python -c \"import matplotlib\" || pip install -q matplotlib\n",
    "%matplotlib inline"
   ]
  },
  {
   "cell_type": "code",
   "execution_count": 2,
   "id": "327689cb",
   "metadata": {},
   "outputs": [
    {
     "name": "stdout",
     "output_type": "stream",
     "text": [
      "Requirement already satisfied: flake8 in d:\\shuzhi\\monai_replicode\\monai\\lib\\site-packages (from -r D:\\shuzhi\\monai_replicode\\tutorials-main\\tutorials-main\\requirements.txt (line 1)) (7.2.0)\n",
      "Requirement already satisfied: papermill in d:\\shuzhi\\monai_replicode\\monai\\lib\\site-packages (from -r D:\\shuzhi\\monai_replicode\\tutorials-main\\tutorials-main\\requirements.txt (line 2)) (2.6.0)\n",
      "Requirement already satisfied: autopep8 in d:\\shuzhi\\monai_replicode\\monai\\lib\\site-packages (from -r D:\\shuzhi\\monai_replicode\\tutorials-main\\tutorials-main\\requirements.txt (line 3)) (2.3.2)\n",
      "Requirement already satisfied: jupytext<=1.16.3 in d:\\shuzhi\\monai_replicode\\monai\\lib\\site-packages (from -r D:\\shuzhi\\monai_replicode\\tutorials-main\\tutorials-main\\requirements.txt (line 4)) (1.16.3)\n",
      "Requirement already satisfied: autoflake in d:\\shuzhi\\monai_replicode\\monai\\lib\\site-packages (from -r D:\\shuzhi\\monai_replicode\\tutorials-main\\tutorials-main\\requirements.txt (line 5)) (2.3.1)\n",
      "Requirement already satisfied: ipywidgets in d:\\shuzhi\\monai_replicode\\monai\\lib\\site-packages (from -r D:\\shuzhi\\monai_replicode\\tutorials-main\\tutorials-main\\requirements.txt (line 6)) (8.1.6)\n",
      "Requirement already satisfied: tensorboard>=2.4.0 in d:\\shuzhi\\monai_replicode\\monai\\lib\\site-packages (from -r D:\\shuzhi\\monai_replicode\\tutorials-main\\tutorials-main\\requirements.txt (line 7)) (2.19.0)\n",
      "Requirement already satisfied: mccabe<0.8.0,>=0.7.0 in d:\\shuzhi\\monai_replicode\\monai\\lib\\site-packages (from flake8->-r D:\\shuzhi\\monai_replicode\\tutorials-main\\tutorials-main\\requirements.txt (line 1)) (0.7.0)\n",
      "Requirement already satisfied: pycodestyle<2.14.0,>=2.13.0 in d:\\shuzhi\\monai_replicode\\monai\\lib\\site-packages (from flake8->-r D:\\shuzhi\\monai_replicode\\tutorials-main\\tutorials-main\\requirements.txt (line 1)) (2.13.0)\n",
      "Requirement already satisfied: pyflakes<3.4.0,>=3.3.0 in d:\\shuzhi\\monai_replicode\\monai\\lib\\site-packages (from flake8->-r D:\\shuzhi\\monai_replicode\\tutorials-main\\tutorials-main\\requirements.txt (line 1)) (3.3.2)\n",
      "Requirement already satisfied: click in d:\\shuzhi\\monai_replicode\\monai\\lib\\site-packages (from papermill->-r D:\\shuzhi\\monai_replicode\\tutorials-main\\tutorials-main\\requirements.txt (line 2)) (8.1.8)\n",
      "Requirement already satisfied: pyyaml in d:\\shuzhi\\monai_replicode\\monai\\lib\\site-packages (from papermill->-r D:\\shuzhi\\monai_replicode\\tutorials-main\\tutorials-main\\requirements.txt (line 2)) (6.0.2)\n",
      "Requirement already satisfied: nbformat>=5.2.0 in d:\\shuzhi\\monai_replicode\\monai\\lib\\site-packages (from papermill->-r D:\\shuzhi\\monai_replicode\\tutorials-main\\tutorials-main\\requirements.txt (line 2)) (5.10.4)\n",
      "Requirement already satisfied: nbclient>=0.2.0 in d:\\shuzhi\\monai_replicode\\monai\\lib\\site-packages (from papermill->-r D:\\shuzhi\\monai_replicode\\tutorials-main\\tutorials-main\\requirements.txt (line 2)) (0.10.2)\n",
      "Requirement already satisfied: tqdm>=4.32.2 in d:\\shuzhi\\monai_replicode\\monai\\lib\\site-packages (from papermill->-r D:\\shuzhi\\monai_replicode\\tutorials-main\\tutorials-main\\requirements.txt (line 2)) (4.67.1)\n",
      "Requirement already satisfied: requests in d:\\shuzhi\\monai_replicode\\monai\\lib\\site-packages (from papermill->-r D:\\shuzhi\\monai_replicode\\tutorials-main\\tutorials-main\\requirements.txt (line 2)) (2.32.3)\n",
      "Requirement already satisfied: entrypoints in d:\\shuzhi\\monai_replicode\\monai\\lib\\site-packages (from papermill->-r D:\\shuzhi\\monai_replicode\\tutorials-main\\tutorials-main\\requirements.txt (line 2)) (0.4)\n",
      "Requirement already satisfied: tenacity>=5.0.2 in d:\\shuzhi\\monai_replicode\\monai\\lib\\site-packages (from papermill->-r D:\\shuzhi\\monai_replicode\\tutorials-main\\tutorials-main\\requirements.txt (line 2)) (9.1.2)\n",
      "Requirement already satisfied: ansicolors in d:\\shuzhi\\monai_replicode\\monai\\lib\\site-packages (from papermill->-r D:\\shuzhi\\monai_replicode\\tutorials-main\\tutorials-main\\requirements.txt (line 2)) (1.1.8)\n",
      "Requirement already satisfied: tomli in d:\\shuzhi\\monai_replicode\\monai\\lib\\site-packages (from autopep8->-r D:\\shuzhi\\monai_replicode\\tutorials-main\\tutorials-main\\requirements.txt (line 3)) (2.2.1)\n",
      "Requirement already satisfied: markdown-it-py>=1.0 in d:\\shuzhi\\monai_replicode\\monai\\lib\\site-packages (from jupytext<=1.16.3->-r D:\\shuzhi\\monai_replicode\\tutorials-main\\tutorials-main\\requirements.txt (line 4)) (3.0.0)\n",
      "Requirement already satisfied: mdit-py-plugins in d:\\shuzhi\\monai_replicode\\monai\\lib\\site-packages (from jupytext<=1.16.3->-r D:\\shuzhi\\monai_replicode\\tutorials-main\\tutorials-main\\requirements.txt (line 4)) (0.4.2)\n",
      "Requirement already satisfied: packaging in d:\\shuzhi\\monai_replicode\\monai\\lib\\site-packages (from jupytext<=1.16.3->-r D:\\shuzhi\\monai_replicode\\tutorials-main\\tutorials-main\\requirements.txt (line 4)) (24.2)\n",
      "Requirement already satisfied: comm>=0.1.3 in d:\\shuzhi\\monai_replicode\\monai\\lib\\site-packages (from ipywidgets->-r D:\\shuzhi\\monai_replicode\\tutorials-main\\tutorials-main\\requirements.txt (line 6)) (0.2.2)\n",
      "Requirement already satisfied: ipython>=6.1.0 in d:\\shuzhi\\monai_replicode\\monai\\lib\\site-packages (from ipywidgets->-r D:\\shuzhi\\monai_replicode\\tutorials-main\\tutorials-main\\requirements.txt (line 6)) (8.35.0)\n",
      "Requirement already satisfied: traitlets>=4.3.1 in d:\\shuzhi\\monai_replicode\\monai\\lib\\site-packages (from ipywidgets->-r D:\\shuzhi\\monai_replicode\\tutorials-main\\tutorials-main\\requirements.txt (line 6)) (5.14.3)\n",
      "Requirement already satisfied: widgetsnbextension~=4.0.14 in d:\\shuzhi\\monai_replicode\\monai\\lib\\site-packages (from ipywidgets->-r D:\\shuzhi\\monai_replicode\\tutorials-main\\tutorials-main\\requirements.txt (line 6)) (4.0.14)\n",
      "Requirement already satisfied: jupyterlab_widgets~=3.0.14 in d:\\shuzhi\\monai_replicode\\monai\\lib\\site-packages (from ipywidgets->-r D:\\shuzhi\\monai_replicode\\tutorials-main\\tutorials-main\\requirements.txt (line 6)) (3.0.14)\n",
      "Requirement already satisfied: absl-py>=0.4 in d:\\shuzhi\\monai_replicode\\monai\\lib\\site-packages (from tensorboard>=2.4.0->-r D:\\shuzhi\\monai_replicode\\tutorials-main\\tutorials-main\\requirements.txt (line 7)) (2.2.2)\n",
      "Requirement already satisfied: grpcio>=1.48.2 in d:\\shuzhi\\monai_replicode\\monai\\lib\\site-packages (from tensorboard>=2.4.0->-r D:\\shuzhi\\monai_replicode\\tutorials-main\\tutorials-main\\requirements.txt (line 7)) (1.71.0)\n",
      "Requirement already satisfied: markdown>=2.6.8 in d:\\shuzhi\\monai_replicode\\monai\\lib\\site-packages (from tensorboard>=2.4.0->-r D:\\shuzhi\\monai_replicode\\tutorials-main\\tutorials-main\\requirements.txt (line 7)) (3.8)\n",
      "Requirement already satisfied: numpy>=1.12.0 in d:\\shuzhi\\monai_replicode\\monai\\lib\\site-packages (from tensorboard>=2.4.0->-r D:\\shuzhi\\monai_replicode\\tutorials-main\\tutorials-main\\requirements.txt (line 7)) (2.2.5)\n",
      "Requirement already satisfied: protobuf!=4.24.0,>=3.19.6 in d:\\shuzhi\\monai_replicode\\monai\\lib\\site-packages (from tensorboard>=2.4.0->-r D:\\shuzhi\\monai_replicode\\tutorials-main\\tutorials-main\\requirements.txt (line 7)) (5.29.4)\n",
      "Requirement already satisfied: setuptools>=41.0.0 in d:\\shuzhi\\monai_replicode\\monai\\lib\\site-packages (from tensorboard>=2.4.0->-r D:\\shuzhi\\monai_replicode\\tutorials-main\\tutorials-main\\requirements.txt (line 7)) (65.5.0)\n",
      "Requirement already satisfied: six>1.9 in d:\\shuzhi\\monai_replicode\\monai\\lib\\site-packages (from tensorboard>=2.4.0->-r D:\\shuzhi\\monai_replicode\\tutorials-main\\tutorials-main\\requirements.txt (line 7)) (1.17.0)\n",
      "Requirement already satisfied: tensorboard-data-server<0.8.0,>=0.7.0 in d:\\shuzhi\\monai_replicode\\monai\\lib\\site-packages (from tensorboard>=2.4.0->-r D:\\shuzhi\\monai_replicode\\tutorials-main\\tutorials-main\\requirements.txt (line 7)) (0.7.2)\n",
      "Requirement already satisfied: werkzeug>=1.0.1 in d:\\shuzhi\\monai_replicode\\monai\\lib\\site-packages (from tensorboard>=2.4.0->-r D:\\shuzhi\\monai_replicode\\tutorials-main\\tutorials-main\\requirements.txt (line 7)) (3.1.3)\n",
      "Requirement already satisfied: colorama in d:\\shuzhi\\monai_replicode\\monai\\lib\\site-packages (from ipython>=6.1.0->ipywidgets->-r D:\\shuzhi\\monai_replicode\\tutorials-main\\tutorials-main\\requirements.txt (line 6)) (0.4.6)\n",
      "Requirement already satisfied: decorator in d:\\shuzhi\\monai_replicode\\monai\\lib\\site-packages (from ipython>=6.1.0->ipywidgets->-r D:\\shuzhi\\monai_replicode\\tutorials-main\\tutorials-main\\requirements.txt (line 6)) (5.2.1)\n",
      "Requirement already satisfied: exceptiongroup in d:\\shuzhi\\monai_replicode\\monai\\lib\\site-packages (from ipython>=6.1.0->ipywidgets->-r D:\\shuzhi\\monai_replicode\\tutorials-main\\tutorials-main\\requirements.txt (line 6)) (1.2.2)\n",
      "Requirement already satisfied: jedi>=0.16 in d:\\shuzhi\\monai_replicode\\monai\\lib\\site-packages (from ipython>=6.1.0->ipywidgets->-r D:\\shuzhi\\monai_replicode\\tutorials-main\\tutorials-main\\requirements.txt (line 6)) (0.19.2)\n",
      "Requirement already satisfied: matplotlib-inline in d:\\shuzhi\\monai_replicode\\monai\\lib\\site-packages (from ipython>=6.1.0->ipywidgets->-r D:\\shuzhi\\monai_replicode\\tutorials-main\\tutorials-main\\requirements.txt (line 6)) (0.1.7)\n",
      "Requirement already satisfied: prompt_toolkit<3.1.0,>=3.0.41 in d:\\shuzhi\\monai_replicode\\monai\\lib\\site-packages (from ipython>=6.1.0->ipywidgets->-r D:\\shuzhi\\monai_replicode\\tutorials-main\\tutorials-main\\requirements.txt (line 6)) (3.0.51)\n",
      "Requirement already satisfied: pygments>=2.4.0 in d:\\shuzhi\\monai_replicode\\monai\\lib\\site-packages (from ipython>=6.1.0->ipywidgets->-r D:\\shuzhi\\monai_replicode\\tutorials-main\\tutorials-main\\requirements.txt (line 6)) (2.19.1)\n",
      "Requirement already satisfied: stack_data in d:\\shuzhi\\monai_replicode\\monai\\lib\\site-packages (from ipython>=6.1.0->ipywidgets->-r D:\\shuzhi\\monai_replicode\\tutorials-main\\tutorials-main\\requirements.txt (line 6)) (0.6.3)\n",
      "Requirement already satisfied: typing_extensions>=4.6 in d:\\shuzhi\\monai_replicode\\monai\\lib\\site-packages (from ipython>=6.1.0->ipywidgets->-r D:\\shuzhi\\monai_replicode\\tutorials-main\\tutorials-main\\requirements.txt (line 6)) (4.13.2)\n",
      "Requirement already satisfied: mdurl~=0.1 in d:\\shuzhi\\monai_replicode\\monai\\lib\\site-packages (from markdown-it-py>=1.0->jupytext<=1.16.3->-r D:\\shuzhi\\monai_replicode\\tutorials-main\\tutorials-main\\requirements.txt (line 4)) (0.1.2)\n",
      "Requirement already satisfied: jupyter-client>=6.1.12 in d:\\shuzhi\\monai_replicode\\monai\\lib\\site-packages (from nbclient>=0.2.0->papermill->-r D:\\shuzhi\\monai_replicode\\tutorials-main\\tutorials-main\\requirements.txt (line 2)) (8.6.3)\n",
      "Requirement already satisfied: jupyter-core!=5.0.*,>=4.12 in d:\\shuzhi\\monai_replicode\\monai\\lib\\site-packages (from nbclient>=0.2.0->papermill->-r D:\\shuzhi\\monai_replicode\\tutorials-main\\tutorials-main\\requirements.txt (line 2)) (5.7.2)\n",
      "Requirement already satisfied: fastjsonschema>=2.15 in d:\\shuzhi\\monai_replicode\\monai\\lib\\site-packages (from nbformat>=5.2.0->papermill->-r D:\\shuzhi\\monai_replicode\\tutorials-main\\tutorials-main\\requirements.txt (line 2)) (2.21.1)\n",
      "Requirement already satisfied: jsonschema>=2.6 in d:\\shuzhi\\monai_replicode\\monai\\lib\\site-packages (from nbformat>=5.2.0->papermill->-r D:\\shuzhi\\monai_replicode\\tutorials-main\\tutorials-main\\requirements.txt (line 2)) (4.23.0)\n",
      "Requirement already satisfied: MarkupSafe>=2.1.1 in d:\\shuzhi\\monai_replicode\\monai\\lib\\site-packages (from werkzeug>=1.0.1->tensorboard>=2.4.0->-r D:\\shuzhi\\monai_replicode\\tutorials-main\\tutorials-main\\requirements.txt (line 7)) (3.0.2)\n",
      "Requirement already satisfied: charset-normalizer<4,>=2 in d:\\shuzhi\\monai_replicode\\monai\\lib\\site-packages (from requests->papermill->-r D:\\shuzhi\\monai_replicode\\tutorials-main\\tutorials-main\\requirements.txt (line 2)) (3.4.1)\n",
      "Requirement already satisfied: idna<4,>=2.5 in d:\\shuzhi\\monai_replicode\\monai\\lib\\site-packages (from requests->papermill->-r D:\\shuzhi\\monai_replicode\\tutorials-main\\tutorials-main\\requirements.txt (line 2)) (3.10)\n",
      "Requirement already satisfied: urllib3<3,>=1.21.1 in d:\\shuzhi\\monai_replicode\\monai\\lib\\site-packages (from requests->papermill->-r D:\\shuzhi\\monai_replicode\\tutorials-main\\tutorials-main\\requirements.txt (line 2)) (2.4.0)\n",
      "Requirement already satisfied: certifi>=2017.4.17 in d:\\shuzhi\\monai_replicode\\monai\\lib\\site-packages (from requests->papermill->-r D:\\shuzhi\\monai_replicode\\tutorials-main\\tutorials-main\\requirements.txt (line 2)) (2025.1.31)\n",
      "Requirement already satisfied: parso<0.9.0,>=0.8.4 in d:\\shuzhi\\monai_replicode\\monai\\lib\\site-packages (from jedi>=0.16->ipython>=6.1.0->ipywidgets->-r D:\\shuzhi\\monai_replicode\\tutorials-main\\tutorials-main\\requirements.txt (line 6)) (0.8.4)\n",
      "Requirement already satisfied: attrs>=22.2.0 in d:\\shuzhi\\monai_replicode\\monai\\lib\\site-packages (from jsonschema>=2.6->nbformat>=5.2.0->papermill->-r D:\\shuzhi\\monai_replicode\\tutorials-main\\tutorials-main\\requirements.txt (line 2)) (25.3.0)\n",
      "Requirement already satisfied: jsonschema-specifications>=2023.03.6 in d:\\shuzhi\\monai_replicode\\monai\\lib\\site-packages (from jsonschema>=2.6->nbformat>=5.2.0->papermill->-r D:\\shuzhi\\monai_replicode\\tutorials-main\\tutorials-main\\requirements.txt (line 2)) (2024.10.1)\n",
      "Requirement already satisfied: referencing>=0.28.4 in d:\\shuzhi\\monai_replicode\\monai\\lib\\site-packages (from jsonschema>=2.6->nbformat>=5.2.0->papermill->-r D:\\shuzhi\\monai_replicode\\tutorials-main\\tutorials-main\\requirements.txt (line 2)) (0.36.2)\n",
      "Requirement already satisfied: rpds-py>=0.7.1 in d:\\shuzhi\\monai_replicode\\monai\\lib\\site-packages (from jsonschema>=2.6->nbformat>=5.2.0->papermill->-r D:\\shuzhi\\monai_replicode\\tutorials-main\\tutorials-main\\requirements.txt (line 2)) (0.24.0)\n",
      "Requirement already satisfied: python-dateutil>=2.8.2 in d:\\shuzhi\\monai_replicode\\monai\\lib\\site-packages (from jupyter-client>=6.1.12->nbclient>=0.2.0->papermill->-r D:\\shuzhi\\monai_replicode\\tutorials-main\\tutorials-main\\requirements.txt (line 2)) (2.9.0.post0)\n",
      "Requirement already satisfied: pyzmq>=23.0 in d:\\shuzhi\\monai_replicode\\monai\\lib\\site-packages (from jupyter-client>=6.1.12->nbclient>=0.2.0->papermill->-r D:\\shuzhi\\monai_replicode\\tutorials-main\\tutorials-main\\requirements.txt (line 2)) (26.4.0)\n",
      "Requirement already satisfied: tornado>=6.2 in d:\\shuzhi\\monai_replicode\\monai\\lib\\site-packages (from jupyter-client>=6.1.12->nbclient>=0.2.0->papermill->-r D:\\shuzhi\\monai_replicode\\tutorials-main\\tutorials-main\\requirements.txt (line 2)) (6.4.2)\n",
      "Requirement already satisfied: platformdirs>=2.5 in d:\\shuzhi\\monai_replicode\\monai\\lib\\site-packages (from jupyter-core!=5.0.*,>=4.12->nbclient>=0.2.0->papermill->-r D:\\shuzhi\\monai_replicode\\tutorials-main\\tutorials-main\\requirements.txt (line 2)) (3.11.0)\n",
      "Requirement already satisfied: pywin32>=300 in d:\\shuzhi\\monai_replicode\\monai\\lib\\site-packages (from jupyter-core!=5.0.*,>=4.12->nbclient>=0.2.0->papermill->-r D:\\shuzhi\\monai_replicode\\tutorials-main\\tutorials-main\\requirements.txt (line 2)) (310)\n",
      "Requirement already satisfied: wcwidth in d:\\shuzhi\\monai_replicode\\monai\\lib\\site-packages (from prompt_toolkit<3.1.0,>=3.0.41->ipython>=6.1.0->ipywidgets->-r D:\\shuzhi\\monai_replicode\\tutorials-main\\tutorials-main\\requirements.txt (line 6)) (0.2.13)\n",
      "Requirement already satisfied: executing>=1.2.0 in d:\\shuzhi\\monai_replicode\\monai\\lib\\site-packages (from stack_data->ipython>=6.1.0->ipywidgets->-r D:\\shuzhi\\monai_replicode\\tutorials-main\\tutorials-main\\requirements.txt (line 6)) (2.2.0)\n",
      "Requirement already satisfied: asttokens>=2.1.0 in d:\\shuzhi\\monai_replicode\\monai\\lib\\site-packages (from stack_data->ipython>=6.1.0->ipywidgets->-r D:\\shuzhi\\monai_replicode\\tutorials-main\\tutorials-main\\requirements.txt (line 6)) (3.0.0)\n",
      "Requirement already satisfied: pure-eval in d:\\shuzhi\\monai_replicode\\monai\\lib\\site-packages (from stack_data->ipython>=6.1.0->ipywidgets->-r D:\\shuzhi\\monai_replicode\\tutorials-main\\tutorials-main\\requirements.txt (line 6)) (0.2.3)\n",
      "Note: you may need to restart the kernel to use updated packages.\n"
     ]
    }
   ],
   "source": [
    "pip install -r D:\\shuzhi\\monai_replicode\\tutorials-main\\tutorials-main\\requirements.txt"
   ]
  },
  {
   "cell_type": "code",
   "execution_count": 3,
   "id": "9cdacbce",
   "metadata": {},
   "outputs": [
    {
     "name": "stdout",
     "output_type": "stream",
     "text": [
      "Requirement already satisfied: scikit-learn in d:\\shuzhi\\monai_replicode\\monai\\lib\\site-packages (1.6.1)\n",
      "Requirement already satisfied: numpy>=1.19.5 in d:\\shuzhi\\monai_replicode\\monai\\lib\\site-packages (from scikit-learn) (2.2.5)\n",
      "Requirement already satisfied: scipy>=1.6.0 in d:\\shuzhi\\monai_replicode\\monai\\lib\\site-packages (from scikit-learn) (1.15.2)\n",
      "Requirement already satisfied: joblib>=1.2.0 in d:\\shuzhi\\monai_replicode\\monai\\lib\\site-packages (from scikit-learn) (1.4.2)\n",
      "Requirement already satisfied: threadpoolctl>=3.1.0 in d:\\shuzhi\\monai_replicode\\monai\\lib\\site-packages (from scikit-learn) (3.6.0)\n",
      "Note: you may need to restart the kernel to use updated packages.\n"
     ]
    }
   ],
   "source": [
    "pip install scikit-learn"
   ]
  },
  {
   "cell_type": "code",
   "execution_count": 4,
   "id": "cfd29d2f",
   "metadata": {},
   "outputs": [
    {
     "name": "stdout",
     "output_type": "stream",
     "text": [
      "Note: you may need to restart the kernel to use updated packages.\n"
     ]
    },
    {
     "name": "stderr",
     "output_type": "stream",
     "text": [
      "WARNING: Retrying (Retry(total=4, connect=None, read=None, redirect=None, status=None)) after connection broken by 'NewConnectionError('<pip._vendor.urllib3.connection.HTTPSConnection object at 0x000002DF71F442B0>: Failed to establish a new connection: [Errno 11004] getaddrinfo failed')': /Project-MONAI/MONAI/dev/requirements-dev.txt\n",
      "WARNING: Retrying (Retry(total=3, connect=None, read=None, redirect=None, status=None)) after connection broken by 'NewConnectionError('<pip._vendor.urllib3.connection.HTTPSConnection object at 0x000002DF71F445E0>: Failed to establish a new connection: [Errno 11004] getaddrinfo failed')': /Project-MONAI/MONAI/dev/requirements-dev.txt\n",
      "WARNING: Retrying (Retry(total=2, connect=None, read=None, redirect=None, status=None)) after connection broken by 'NewConnectionError('<pip._vendor.urllib3.connection.HTTPSConnection object at 0x000002DF71F44940>: Failed to establish a new connection: [Errno 11004] getaddrinfo failed')': /Project-MONAI/MONAI/dev/requirements-dev.txt\n",
      "WARNING: Retrying (Retry(total=1, connect=None, read=None, redirect=None, status=None)) after connection broken by 'NewConnectionError('<pip._vendor.urllib3.connection.HTTPSConnection object at 0x000002DF71F44AF0>: Failed to establish a new connection: [Errno 11004] getaddrinfo failed')': /Project-MONAI/MONAI/dev/requirements-dev.txt\n",
      "WARNING: Retrying (Retry(total=0, connect=None, read=None, redirect=None, status=None)) after connection broken by 'NewConnectionError('<pip._vendor.urllib3.connection.HTTPSConnection object at 0x000002DF71F44CD0>: Failed to establish a new connection: [Errno 11004] getaddrinfo failed')': /Project-MONAI/MONAI/dev/requirements-dev.txt\n",
      "ERROR: Could not install packages due to an OSError: HTTPSConnectionPool(host='raw.githubusercontent.com', port=443): Max retries exceeded with url: /Project-MONAI/MONAI/dev/requirements-dev.txt (Caused by NewConnectionError('<pip._vendor.urllib3.connection.HTTPSConnection object at 0x000002DF71F44EB0>: Failed to establish a new connection: [Errno 11004] getaddrinfo failed'))\n",
      "\n"
     ]
    }
   ],
   "source": [
    "pip install -r https://raw.githubusercontent.com/Project-MONAI/MONAI/dev/requirements-dev.txt"
   ]
  },
  {
   "cell_type": "markdown",
   "id": "c4c7fac4",
   "metadata": {},
   "source": [
    "# Set up imports"
   ]
  },
  {
   "cell_type": "code",
   "execution_count": 5,
   "id": "1736ec87",
   "metadata": {},
   "outputs": [
    {
     "name": "stdout",
     "output_type": "stream",
     "text": [
      "MONAI version: 1.5.dev2516\n",
      "Numpy version: 2.2.5\n",
      "Pytorch version: 2.6.0+cpu\n",
      "MONAI flags: HAS_EXT = False, USE_COMPILED = False, USE_META_DICT = False\n",
      "MONAI rev id: 875aa3d53281b83a205442db83ac41ddf817ef9a\n",
      "MONAI __file__: d:\\shuzhi\\monai_replicode\\monai\\lib\\site-packages\\monai\\__init__.py\n",
      "\n",
      "Optional dependencies:\n",
      "Pytorch Ignite version: 0.4.11\n",
      "ITK version: 5.4.3\n",
      "Nibabel version: 5.3.2\n",
      "scikit-image version: 0.25.2\n",
      "scipy version: 1.15.2\n",
      "Pillow version: 11.2.1\n",
      "Tensorboard version: 2.19.0\n",
      "gdown version: 5.2.0\n",
      "TorchVision version: 0.21.0+cpu\n",
      "tqdm version: 4.67.1\n",
      "lmdb version: 1.6.2\n",
      "psutil version: 7.0.0\n",
      "pandas version: 2.2.3\n",
      "einops version: 0.8.1\n",
      "transformers version: 4.40.2\n",
      "mlflow version: 2.21.3\n",
      "pynrrd version: 1.1.3\n",
      "clearml version: 2.0.0rc0\n",
      "\n",
      "For details about installing the optional dependencies, please visit:\n",
      "    https://docs.monai.io/en/latest/installation.html#installing-the-recommended-dependencies\n",
      "\n"
     ]
    }
   ],
   "source": [
    "from monai.utils import first, set_determinism\n",
    "from monai.transforms import (\n",
    "    AsDiscrete,\n",
    "    AsDiscreted,\n",
    "    EnsureChannelFirstd,\n",
    "    Compose,\n",
    "    CropForegroundd,\n",
    "    LoadImaged,\n",
    "    Orientationd,\n",
    "    RandCropByPosNegLabeld,\n",
    "    SaveImaged,\n",
    "    ScaleIntensityRanged,\n",
    "    Spacingd,\n",
    "    Invertd,\n",
    ")\n",
    "from monai.handlers.utils import from_engine\n",
    "from monai.networks.nets import UNet\n",
    "from monai.networks.layers import Norm\n",
    "from monai.metrics import DiceMetric\n",
    "from monai.losses import DiceLoss\n",
    "from monai.inferers import sliding_window_inference\n",
    "from monai.data import CacheDataset, DataLoader, Dataset, decollate_batch\n",
    "from monai.config import print_config\n",
    "from monai.apps import download_and_extract\n",
    "import torch\n",
    "import matplotlib.pyplot as plt\n",
    "import tempfile\n",
    "import shutil\n",
    "import os\n",
    "import glob\n",
    "\n",
    "print_config()"
   ]
  },
  {
   "cell_type": "markdown",
   "id": "856bf3fe",
   "metadata": {},
   "source": [
    "# Set up data directory"
   ]
  },
  {
   "cell_type": "code",
   "execution_count": 6,
   "id": "63e158f2",
   "metadata": {},
   "outputs": [
    {
     "name": "stdout",
     "output_type": "stream",
     "text": [
      "数据目录路径: D:\\shuzhi\\monai_replicode\\monai_datasets\n"
     ]
    }
   ],
   "source": [
    "# 直接指定路径（无需环境变量）\n",
    "# Set specific path\n",
    "directory = r\"D:\\shuzhi\\monai_replicode\\monai_datasets\"  # 使用原始字符串避免转义\n",
    "os.makedirs(directory, exist_ok=True)\n",
    "root_dir = directory\n",
    "print(\"数据目录路径:\", root_dir)"
   ]
  },
  {
   "cell_type": "markdown",
   "id": "9c372ab1",
   "metadata": {},
   "source": [
    "# Download dataset\n",
    "\n",
    "https://msd-for-monai.s3-us-west-2.amazonaws.com/Task09_Spleen.tar\n",
    "Run 'tar -xf .\\Task09_Spleen.tar' in Terminal to extract"
   ]
  },
  {
   "cell_type": "code",
   "execution_count": 7,
   "id": "49ceb3fa",
   "metadata": {},
   "outputs": [],
   "source": [
    "compressed_file = os.path.join(root_dir, \"Task09_Spleen.tar\")\n",
    "data_dir = os.path.join(root_dir, \"Task09_Spleen\")"
   ]
  },
  {
   "cell_type": "code",
   "execution_count": 8,
   "id": "f1e65ee1",
   "metadata": {},
   "outputs": [
    {
     "name": "stdout",
     "output_type": "stream",
     "text": [
      "压缩包路径： D:\\shuzhi\\monai_replicode\\monai_datasets\\Task09_Spleen.tar\n",
      "数据目录路径： D:\\shuzhi\\monai_replicode\\monai_datasets\\Task09_Spleen\n",
      "root_dir path: D:\\shuzhi\\monai_replicode\\monai_datasets\n",
      "data_dir path: D:\\shuzhi\\monai_replicode\\monai_datasets\\Task09_Spleen\n"
     ]
    }
   ],
   "source": [
    "print(\"压缩包路径：\", compressed_file)  # 应为 D:\\...\\MedNIST.tar.gz\n",
    "print(\"数据目录路径：\", data_dir)       # 应为 D:\\...\\MedNIST\n",
    "\n",
    "# 打印绝对路径\n",
    "print(\"root_dir path:\", os.path.abspath(root_dir))\n",
    "print(\"data_dir path:\", os.path.abspath(data_dir))"
   ]
  },
  {
   "cell_type": "markdown",
   "id": "820573a5",
   "metadata": {},
   "source": [
    "# Set MSD Spleen dataset path"
   ]
  },
  {
   "cell_type": "code",
   "execution_count": 9,
   "id": "2c7e8232",
   "metadata": {},
   "outputs": [],
   "source": [
    "# ================== 数据路径处理（不属于 Data Transform） ==================\n",
    "# 获取训练图像和标签文件路径列表（通过glob匹配.nii.gz文件）\n",
    "\n",
    "train_images = sorted(glob.glob(os.path.join(data_dir, \"imagesTr\", \"*.nii.gz\")))\n",
    "train_labels = sorted(glob.glob(os.path.join(data_dir, \"labelsTr\", \"*.nii.gz\")))\n",
    "\n",
    "# 将图像和标签路径组合成字典列表（MONAI数据集的标准输入格式）\n",
    "data_dicts =[\n",
    "    {\"image\": image_name, \"label\": label_name} for image_name, label_name in zip(train_images, train_labels)\n",
    "]\n",
    "\n",
    "# 划分训练集和验证集（取最后9个样本作为验证集）\n",
    "train_files, val_files = data_dicts[:-9], data_dicts[-9:]"
   ]
  },
  {
   "cell_type": "markdown",
   "id": "ef1b10ad",
   "metadata": {},
   "source": [
    "# Set deterministic training for reproducibility"
   ]
  },
  {
   "cell_type": "code",
   "execution_count": 10,
   "id": "f7e2d56f",
   "metadata": {},
   "outputs": [],
   "source": [
    "set_determinism(seed=0)"
   ]
  },
  {
   "cell_type": "markdown",
   "id": "256109be",
   "metadata": {},
   "source": [
    "# Setup transforms for training and validation"
   ]
  },
  {
   "cell_type": "code",
   "execution_count": 11,
   "id": "64bd6cc2",
   "metadata": {},
   "outputs": [
    {
     "name": "stderr",
     "output_type": "stream",
     "text": [
      "monai.transforms.croppad.dictionary CropForegroundd.__init__:allow_smaller: Current default value of argument `allow_smaller=True` has been deprecated since version 1.2. It will be changed to `allow_smaller=False` in version 1.5.\n"
     ]
    }
   ],
   "source": [
    "# ================== 核心 Data Transform 部分 ==================\n",
    "# 定义训练集的数据增强流水线\n",
    "# define the data transforms\n",
    "train_transforms = Compose(\n",
    "    [\n",
    "        # 1. 加载NIfTI文件\n",
    "        LoadImaged(keys=[\"image\", \"label\"]),\n",
    "\n",
    "        # 2. 确保数据有通道维度（形状从 (H,W,D) 变为 (C,H,W,D)）\n",
    "        EnsureChannelFirstd(keys=[\"image\", \"label\"]),\n",
    "\n",
    "        # 3. 统一图像方向（例如将LAS坐标系转为RAS）\n",
    "        Orientationd(keys=[\"image\", \"label\"], axcodes=\"RAS\"),\n",
    "\n",
    "        # 4. 重采样到统一分辨率（1.5x1.5x2.0毫米）\n",
    "        Spacingd(\n",
    "            keys=[\"image\", \"label\"],\n",
    "            pixdim=(1.5, 1.5, 2.0), # XYZ轴的目标间距\n",
    "            mode=(\"bilinear\", \"nearest\"), # 图像双线性插值，标签最近邻\n",
    "        ),\n",
    "\n",
    "        # 5. 调整CT值范围并归一化到[0,1]\n",
    "        ScaleIntensityRanged(\n",
    "            keys=[\"image\"],\n",
    "            a_min=-57, # 最低CT值（过滤无关组织）\n",
    "            a_max=164, # 最高CT值（聚焦脾脏）\n",
    "            b_min=0.0,\n",
    "            b_max=1.0, \n",
    "            clip=True    # 超出范围的像素截断到[a_min, a_max]\n",
    "        ),\n",
    "\n",
    "        # 6. 裁剪非零区域（去除图像边缘的无效背景）\n",
    "        CropForegroundd(keys=[\"image\", \"label\"], source_key=\"image\"),\n",
    "\n",
    "        # 7. 随机裁剪带标签的3D块（数据增强关键步骤）\n",
    "        # randomly crop out patch samples from\n",
    "        # big image based on pos / neg ratio\n",
    "        # the image centers of negative samples\n",
    "        # must be in valid image area\n",
    "        RandCropByPosNegLabeld(\n",
    "            keys=[\"image\", \"label\"],\n",
    "            label_key=\"label\", # 根据标签生成正负样本\n",
    "            spatial_size=(96, 96, 96), # 裁剪块尺寸\n",
    "            pos=1, # 正样本（包含目标）的比例\n",
    "            neg=1, # 负样本（不包含目标）的比例\n",
    "            num_samples=4, # 每个输入样本生成4个块\n",
    "            image_key=\"image\",\n",
    "            image_threshold=0, # 像素值阈值定义有效区域\n",
    "                ),\n",
    "                # user can also add other random transforms\n",
    "                #                 RandAffined(\n",
    "                #                     keys=['image', 'label'],\n",
    "                #                     mode=('bilinear', 'nearest'),\n",
    "                #                     prob=1.0,\n",
    "                #                     spatial_size=(96, 96, 96),\n",
    "                #                     rotate_range=(0, 0, np.pi/15),\n",
    "                #                     scale_range=(0.1, 0.1, 0.1)),\n",
    "    ]\n",
    ")"
   ]
  },
  {
   "cell_type": "code",
   "execution_count": 12,
   "id": "00e656c8",
   "metadata": {},
   "outputs": [],
   "source": [
    "# 定义验证集的预处理流水线（无随机增强）\n",
    "val_transforms = Compose(\n",
    "    [\n",
    "        LoadImaged(keys=[\"image\", \"label\"]),\n",
    "        EnsureChannelFirstd(keys=[\"image\", \"label\"]),\n",
    "        Orientationd(keys=[\"image\", \"label\"], axcodes=\"RAS\"),\n",
    "        Spacingd(\n",
    "            keys=[\"image\", \"label\"],\n",
    "            pixdim=(1.5, 1.5, 2.0),\n",
    "            mode=(\"bilinear\", \"nearest\"),\n",
    "                ),\n",
    "        ScaleIntensityRanged(\n",
    "            keys=[\"image\"],\n",
    "            a_min=-57,\n",
    "            a_max=164,\n",
    "            b_min=0.0,\n",
    "            b_max=1.0,\n",
    "            clip=True,\n",
    "                ),\n",
    "        CropForegroundd(keys=[\"image\", \"label\"], source_key=\"image\"),\n",
    "    ]\n",
    ")"
   ]
  },
  {
   "cell_type": "markdown",
   "id": "3dd47fa9",
   "metadata": {},
   "source": [
    "# Define CacheDataset and DataLoader for training and validation"
   ]
  },
  {
   "cell_type": "code",
   "execution_count": 13,
   "id": "81f0293b",
   "metadata": {},
   "outputs": [
    {
     "name": "stderr",
     "output_type": "stream",
     "text": [
      "Loading dataset: 100%|██████████| 9/9 [00:46<00:00,  5.15s/it]\n"
     ]
    }
   ],
   "source": [
    "# 创建验证集 DataLoader（应用预处理）\n",
    "val_ds = CacheDataset(data=val_files, transform=val_transforms)\n",
    "val_loader = DataLoader(val_ds, batch_size=1, num_workers=2)  # 批量大小设为1方便可视化\n",
    "\n",
    "\n",
    "\n",
    "# ============================================================\n",
    "\n",
    "# train_ds = CacheDataset(data=train_files, transform=train_transforms, cache_rate=1.0, num_workers=4)\n",
    "# # train_ds = Dataset(data=train_files, transform=train_transforms)\n",
    "\n",
    "# # use batch_size=2 to load images and use RandCropByPosNegLabeld\n",
    "# # to generate 2 x 4 images for network training\n",
    "# train_loader = DataLoader(train_ds, batch_size=2, shuffle=True, num_workers=4)\n",
    "\n",
    "# val_ds = CacheDataset(data=val_files, transform=val_transforms, cache_rate=1.0, num_workers=4)\n",
    "# # val_ds = Dataset(data=val_files, transform=val_transforms)\n",
    "# val_loader = DataLoader(val_ds, batch_size=1, num_workers=4)"
   ]
  },
  {
   "cell_type": "markdown",
   "id": "cd24f631",
   "metadata": {},
   "source": [
    "# Load the model"
   ]
  },
  {
   "cell_type": "code",
   "execution_count": null,
   "id": "26c0d53b",
   "metadata": {},
   "outputs": [
    {
     "data": {
      "text/plain": [
       "UNet(\n",
       "  (model): Sequential(\n",
       "    (0): ResidualUnit(\n",
       "      (conv): Sequential(\n",
       "        (unit0): Convolution(\n",
       "          (conv): Conv3d(1, 16, kernel_size=(3, 3, 3), stride=(2, 2, 2), padding=(1, 1, 1))\n",
       "          (adn): ADN(\n",
       "            (N): BatchNorm3d(16, eps=1e-05, momentum=0.1, affine=True, track_running_stats=True)\n",
       "            (D): Dropout(p=0.0, inplace=False)\n",
       "            (A): PReLU(num_parameters=1)\n",
       "          )\n",
       "        )\n",
       "        (unit1): Convolution(\n",
       "          (conv): Conv3d(16, 16, kernel_size=(3, 3, 3), stride=(1, 1, 1), padding=(1, 1, 1))\n",
       "          (adn): ADN(\n",
       "            (N): BatchNorm3d(16, eps=1e-05, momentum=0.1, affine=True, track_running_stats=True)\n",
       "            (D): Dropout(p=0.0, inplace=False)\n",
       "            (A): PReLU(num_parameters=1)\n",
       "          )\n",
       "        )\n",
       "      )\n",
       "      (residual): Conv3d(1, 16, kernel_size=(3, 3, 3), stride=(2, 2, 2), padding=(1, 1, 1))\n",
       "    )\n",
       "    (1): SkipConnection(\n",
       "      (submodule): Sequential(\n",
       "        (0): ResidualUnit(\n",
       "          (conv): Sequential(\n",
       "            (unit0): Convolution(\n",
       "              (conv): Conv3d(16, 32, kernel_size=(3, 3, 3), stride=(2, 2, 2), padding=(1, 1, 1))\n",
       "              (adn): ADN(\n",
       "                (N): BatchNorm3d(32, eps=1e-05, momentum=0.1, affine=True, track_running_stats=True)\n",
       "                (D): Dropout(p=0.0, inplace=False)\n",
       "                (A): PReLU(num_parameters=1)\n",
       "              )\n",
       "            )\n",
       "            (unit1): Convolution(\n",
       "              (conv): Conv3d(32, 32, kernel_size=(3, 3, 3), stride=(1, 1, 1), padding=(1, 1, 1))\n",
       "              (adn): ADN(\n",
       "                (N): BatchNorm3d(32, eps=1e-05, momentum=0.1, affine=True, track_running_stats=True)\n",
       "                (D): Dropout(p=0.0, inplace=False)\n",
       "                (A): PReLU(num_parameters=1)\n",
       "              )\n",
       "            )\n",
       "          )\n",
       "          (residual): Conv3d(16, 32, kernel_size=(3, 3, 3), stride=(2, 2, 2), padding=(1, 1, 1))\n",
       "        )\n",
       "        (1): SkipConnection(\n",
       "          (submodule): Sequential(\n",
       "            (0): ResidualUnit(\n",
       "              (conv): Sequential(\n",
       "                (unit0): Convolution(\n",
       "                  (conv): Conv3d(32, 64, kernel_size=(3, 3, 3), stride=(2, 2, 2), padding=(1, 1, 1))\n",
       "                  (adn): ADN(\n",
       "                    (N): BatchNorm3d(64, eps=1e-05, momentum=0.1, affine=True, track_running_stats=True)\n",
       "                    (D): Dropout(p=0.0, inplace=False)\n",
       "                    (A): PReLU(num_parameters=1)\n",
       "                  )\n",
       "                )\n",
       "                (unit1): Convolution(\n",
       "                  (conv): Conv3d(64, 64, kernel_size=(3, 3, 3), stride=(1, 1, 1), padding=(1, 1, 1))\n",
       "                  (adn): ADN(\n",
       "                    (N): BatchNorm3d(64, eps=1e-05, momentum=0.1, affine=True, track_running_stats=True)\n",
       "                    (D): Dropout(p=0.0, inplace=False)\n",
       "                    (A): PReLU(num_parameters=1)\n",
       "                  )\n",
       "                )\n",
       "              )\n",
       "              (residual): Conv3d(32, 64, kernel_size=(3, 3, 3), stride=(2, 2, 2), padding=(1, 1, 1))\n",
       "            )\n",
       "            (1): SkipConnection(\n",
       "              (submodule): Sequential(\n",
       "                (0): ResidualUnit(\n",
       "                  (conv): Sequential(\n",
       "                    (unit0): Convolution(\n",
       "                      (conv): Conv3d(64, 128, kernel_size=(3, 3, 3), stride=(2, 2, 2), padding=(1, 1, 1))\n",
       "                      (adn): ADN(\n",
       "                        (N): BatchNorm3d(128, eps=1e-05, momentum=0.1, affine=True, track_running_stats=True)\n",
       "                        (D): Dropout(p=0.0, inplace=False)\n",
       "                        (A): PReLU(num_parameters=1)\n",
       "                      )\n",
       "                    )\n",
       "                    (unit1): Convolution(\n",
       "                      (conv): Conv3d(128, 128, kernel_size=(3, 3, 3), stride=(1, 1, 1), padding=(1, 1, 1))\n",
       "                      (adn): ADN(\n",
       "                        (N): BatchNorm3d(128, eps=1e-05, momentum=0.1, affine=True, track_running_stats=True)\n",
       "                        (D): Dropout(p=0.0, inplace=False)\n",
       "                        (A): PReLU(num_parameters=1)\n",
       "                      )\n",
       "                    )\n",
       "                  )\n",
       "                  (residual): Conv3d(64, 128, kernel_size=(3, 3, 3), stride=(2, 2, 2), padding=(1, 1, 1))\n",
       "                )\n",
       "                (1): SkipConnection(\n",
       "                  (submodule): ResidualUnit(\n",
       "                    (conv): Sequential(\n",
       "                      (unit0): Convolution(\n",
       "                        (conv): Conv3d(128, 256, kernel_size=(3, 3, 3), stride=(1, 1, 1), padding=(1, 1, 1))\n",
       "                        (adn): ADN(\n",
       "                          (N): BatchNorm3d(256, eps=1e-05, momentum=0.1, affine=True, track_running_stats=True)\n",
       "                          (D): Dropout(p=0.0, inplace=False)\n",
       "                          (A): PReLU(num_parameters=1)\n",
       "                        )\n",
       "                      )\n",
       "                      (unit1): Convolution(\n",
       "                        (conv): Conv3d(256, 256, kernel_size=(3, 3, 3), stride=(1, 1, 1), padding=(1, 1, 1))\n",
       "                        (adn): ADN(\n",
       "                          (N): BatchNorm3d(256, eps=1e-05, momentum=0.1, affine=True, track_running_stats=True)\n",
       "                          (D): Dropout(p=0.0, inplace=False)\n",
       "                          (A): PReLU(num_parameters=1)\n",
       "                        )\n",
       "                      )\n",
       "                    )\n",
       "                    (residual): Conv3d(128, 256, kernel_size=(1, 1, 1), stride=(1, 1, 1))\n",
       "                  )\n",
       "                )\n",
       "                (2): Sequential(\n",
       "                  (0): Convolution(\n",
       "                    (conv): ConvTranspose3d(384, 64, kernel_size=(3, 3, 3), stride=(2, 2, 2), padding=(1, 1, 1), output_padding=(1, 1, 1))\n",
       "                    (adn): ADN(\n",
       "                      (N): BatchNorm3d(64, eps=1e-05, momentum=0.1, affine=True, track_running_stats=True)\n",
       "                      (D): Dropout(p=0.0, inplace=False)\n",
       "                      (A): PReLU(num_parameters=1)\n",
       "                    )\n",
       "                  )\n",
       "                  (1): ResidualUnit(\n",
       "                    (conv): Sequential(\n",
       "                      (unit0): Convolution(\n",
       "                        (conv): Conv3d(64, 64, kernel_size=(3, 3, 3), stride=(1, 1, 1), padding=(1, 1, 1))\n",
       "                        (adn): ADN(\n",
       "                          (N): BatchNorm3d(64, eps=1e-05, momentum=0.1, affine=True, track_running_stats=True)\n",
       "                          (D): Dropout(p=0.0, inplace=False)\n",
       "                          (A): PReLU(num_parameters=1)\n",
       "                        )\n",
       "                      )\n",
       "                    )\n",
       "                    (residual): Identity()\n",
       "                  )\n",
       "                )\n",
       "              )\n",
       "            )\n",
       "            (2): Sequential(\n",
       "              (0): Convolution(\n",
       "                (conv): ConvTranspose3d(128, 32, kernel_size=(3, 3, 3), stride=(2, 2, 2), padding=(1, 1, 1), output_padding=(1, 1, 1))\n",
       "                (adn): ADN(\n",
       "                  (N): BatchNorm3d(32, eps=1e-05, momentum=0.1, affine=True, track_running_stats=True)\n",
       "                  (D): Dropout(p=0.0, inplace=False)\n",
       "                  (A): PReLU(num_parameters=1)\n",
       "                )\n",
       "              )\n",
       "              (1): ResidualUnit(\n",
       "                (conv): Sequential(\n",
       "                  (unit0): Convolution(\n",
       "                    (conv): Conv3d(32, 32, kernel_size=(3, 3, 3), stride=(1, 1, 1), padding=(1, 1, 1))\n",
       "                    (adn): ADN(\n",
       "                      (N): BatchNorm3d(32, eps=1e-05, momentum=0.1, affine=True, track_running_stats=True)\n",
       "                      (D): Dropout(p=0.0, inplace=False)\n",
       "                      (A): PReLU(num_parameters=1)\n",
       "                    )\n",
       "                  )\n",
       "                )\n",
       "                (residual): Identity()\n",
       "              )\n",
       "            )\n",
       "          )\n",
       "        )\n",
       "        (2): Sequential(\n",
       "          (0): Convolution(\n",
       "            (conv): ConvTranspose3d(64, 16, kernel_size=(3, 3, 3), stride=(2, 2, 2), padding=(1, 1, 1), output_padding=(1, 1, 1))\n",
       "            (adn): ADN(\n",
       "              (N): BatchNorm3d(16, eps=1e-05, momentum=0.1, affine=True, track_running_stats=True)\n",
       "              (D): Dropout(p=0.0, inplace=False)\n",
       "              (A): PReLU(num_parameters=1)\n",
       "            )\n",
       "          )\n",
       "          (1): ResidualUnit(\n",
       "            (conv): Sequential(\n",
       "              (unit0): Convolution(\n",
       "                (conv): Conv3d(16, 16, kernel_size=(3, 3, 3), stride=(1, 1, 1), padding=(1, 1, 1))\n",
       "                (adn): ADN(\n",
       "                  (N): BatchNorm3d(16, eps=1e-05, momentum=0.1, affine=True, track_running_stats=True)\n",
       "                  (D): Dropout(p=0.0, inplace=False)\n",
       "                  (A): PReLU(num_parameters=1)\n",
       "                )\n",
       "              )\n",
       "            )\n",
       "            (residual): Identity()\n",
       "          )\n",
       "        )\n",
       "      )\n",
       "    )\n",
       "    (2): Sequential(\n",
       "      (0): Convolution(\n",
       "        (conv): ConvTranspose3d(32, 2, kernel_size=(3, 3, 3), stride=(2, 2, 2), padding=(1, 1, 1), output_padding=(1, 1, 1))\n",
       "        (adn): ADN(\n",
       "          (N): BatchNorm3d(2, eps=1e-05, momentum=0.1, affine=True, track_running_stats=True)\n",
       "          (D): Dropout(p=0.0, inplace=False)\n",
       "          (A): PReLU(num_parameters=1)\n",
       "        )\n",
       "      )\n",
       "      (1): ResidualUnit(\n",
       "        (conv): Sequential(\n",
       "          (unit0): Convolution(\n",
       "            (conv): Conv3d(2, 2, kernel_size=(3, 3, 3), stride=(1, 1, 1), padding=(1, 1, 1))\n",
       "          )\n",
       "        )\n",
       "        (residual): Identity()\n",
       "      )\n",
       "    )\n",
       "  )\n",
       ")"
      ]
     },
     "execution_count": 14,
     "metadata": {},
     "output_type": "execute_result"
    },
    {
     "ename": "",
     "evalue": "",
     "output_type": "error",
     "traceback": [
      "\u001b[1;31mThe Kernel crashed while executing code in the current cell or a previous cell. \n",
      "\u001b[1;31mPlease review the code in the cell(s) to identify a possible cause of the failure. \n",
      "\u001b[1;31mClick <a href='https://aka.ms/vscodeJupyterKernelCrash'>here</a> for more info. \n",
      "\u001b[1;31mView Jupyter <a href='command:jupyter.viewOutput'>log</a> for further details."
     ]
    }
   ],
   "source": [
    "device = torch.device(\"cuda:0\" if torch.cuda.is_available() else \"cpu\")\n",
    "model = UNet(\n",
    "    spatial_dims=3,\n",
    "    in_channels=1,\n",
    "    out_channels=2,\n",
    "    channels=(16, 32, 64, 128, 256),\n",
    "    strides=(2, 2, 2, 2),\n",
    "    num_res_units=2,\n",
    "    norm=Norm.BATCH,\n",
    ").to(device)\n",
    "\n",
    "# 加载本地预训练权重\n",
    "model_path = r\"D:\\shuzhi\\monai_replicode\\monai_test\\model.pt\"  # 原始路径\n",
    "model.load_state_dict(torch.load(model_path, map_location=device))  # 自动适应CPU/GPU\n",
    "\n",
    "model.eval()"
   ]
  },
  {
   "cell_type": "markdown",
   "id": "70326636",
   "metadata": {},
   "source": [
    "# Check best model output with the input image and label"
   ]
  },
  {
   "cell_type": "code",
   "execution_count": null,
   "id": "5a35a9b1",
   "metadata": {},
   "outputs": [],
   "source": [
    "with torch.no_grad():\n",
    "    for i, val_data in enumerate(val_loader):\n",
    "        # 滑动窗口推理（适合大尺寸图像）\n",
    "        val_outputs = sliding_window_inference(\n",
    "            inputs=val_data[\"image\"].to(device),\n",
    "            roi_size=(96, 96, 96),  # Match training crop size\n",
    "            sw_batch_size=4,        # Number of sliding window batches\n",
    "            predictor=model,\n",
    "            overlap=0.5             # Overlap ratio to reduce boundary artifacts\n",
    "        )\n",
    "        \n",
    "        # 显示中间切片（第80层）\n",
    "        plt.figure(f\"Validation Sample {i}\", (18, 6))\n",
    "        plt.subplot(1, 3, 1)\n",
    "        plt.title(\"Original CT Image\")  # 原始CT图像 → Original CT Image\n",
    "        plt.imshow(val_data[\"image\"][0, 0, :, :, 80], cmap=\"gray\")\n",
    "        \n",
    "        plt.subplot(1, 3, 2)\n",
    "        plt.title(\"Ground Truth (Spleen)\")  # 医生标注（脾脏） → Ground Truth (Spleen)\n",
    "        plt.imshow(val_data[\"label\"][0, 0, :, :, 80])\n",
    "        \n",
    "        plt.subplot(1, 3, 3)\n",
    "        plt.title(\"Model Prediction\")  # 模型预测 → Model Prediction\n",
    "        pred_mask = torch.argmax(val_outputs, dim=1)\n",
    "        plt.imshow(pred_mask[0, :, :, 80].cpu().numpy())\n",
    "        \n",
    "        plt.show()\n",
    "        if i >= 2:  # Only show first 3 samples\n",
    "            break"
   ]
  },
  {
   "cell_type": "markdown",
   "id": "d214b9ae",
   "metadata": {},
   "source": [
    "# Evaluation on original image spacings"
   ]
  },
  {
   "cell_type": "code",
   "execution_count": 19,
   "id": "2afac119",
   "metadata": {},
   "outputs": [
    {
     "name": "stderr",
     "output_type": "stream",
     "text": [
      "monai.transforms.croppad.dictionary CropForegroundd.__init__:allow_smaller: Current default value of argument `allow_smaller=True` has been deprecated since version 1.2. It will be changed to `allow_smaller=False` in version 1.5.\n"
     ]
    }
   ],
   "source": [
    "val_org_transforms = Compose(\n",
    "    [\n",
    "        LoadImaged(keys=[\"image\", \"label\"]),\n",
    "        EnsureChannelFirstd(keys=[\"image\", \"label\"]),\n",
    "        Orientationd(keys=[\"image\"], axcodes=\"RAS\"),\n",
    "        Spacingd(keys=[\"image\"], pixdim=(1.5, 1.5, 2.0), mode=\"bilinear\"),\n",
    "        ScaleIntensityRanged(\n",
    "            keys=[\"image\"],\n",
    "            a_min=-57,\n",
    "            a_max=164,\n",
    "            b_min=0.0,\n",
    "            b_max=1.0,\n",
    "            clip=True,\n",
    "        ),\n",
    "        CropForegroundd(keys=[\"image\"], source_key=\"image\"),\n",
    "    ]\n",
    ")\n",
    "\n",
    "val_org_ds = Dataset(data=val_files, transform=val_org_transforms)\n",
    "val_org_loader = DataLoader(val_org_ds, batch_size=1, num_workers=4)\n",
    "\n",
    "post_transforms = Compose(\n",
    "    [\n",
    "        Invertd(\n",
    "            keys=\"pred\",\n",
    "            transform=val_org_transforms,\n",
    "            orig_keys=\"image\",\n",
    "            meta_keys=\"pred_meta_dict\",\n",
    "            orig_meta_keys=\"image_meta_dict\",\n",
    "            meta_key_postfix=\"meta_dict\",\n",
    "            nearest_interp=False,\n",
    "            to_tensor=True,\n",
    "            device=\"cpu\",\n",
    "        ),\n",
    "        AsDiscreted(keys=\"pred\", argmax=True, to_onehot=2),\n",
    "        AsDiscreted(keys=\"label\", to_onehot=2),\n",
    "    ]\n",
    ")"
   ]
  },
  {
   "cell_type": "code",
   "execution_count": null,
   "id": "9a928b4e",
   "metadata": {},
   "outputs": [],
   "source": [
    "model_path = r\"D:\\shuzhi\\monai_replicode\\monai_test\\model.pt\"  # 原始路径\n",
    "model.load_state_dict(torch.load(model_path, map_location=device))  # 自动适应CPU/GPU\n",
    "\n",
    "model.eval()\n",
    "\n",
    "with torch.no_grad():\n",
    "    for val_data in val_org_loader:\n",
    "        val_inputs = val_data[\"image\"].to(device)\n",
    "        roi_size = (160, 160, 160)\n",
    "        sw_batch_size = 4\n",
    "        val_data[\"pred\"] = sliding_window_inference(val_inputs, roi_size, sw_batch_size, model)\n",
    "        val_data = [post_transforms(i) for i in decollate_batch(val_data)]\n",
    "        val_outputs, val_labels = from_engine([\"pred\", \"label\"])(val_data)\n",
    "        # compute metric for current iteration\n",
    "        dice_metric(y_pred=val_outputs, y=val_labels)\n",
    "\n",
    "#     # aggregate the final mean dice result\n",
    "#     metric_org = dice_metric.aggregate().item()\n",
    "#     # reset the status for next validation round\n",
    "#     dice_metric.reset()\n",
    "\n",
    "# print(\"Metric on original image spacing: \", metric_org)"
   ]
  },
  {
   "cell_type": "code",
   "execution_count": null,
   "id": "abf8f276",
   "metadata": {},
   "outputs": [],
   "source": []
  }
 ],
 "metadata": {
  "kernelspec": {
   "display_name": "monai",
   "language": "python",
   "name": "python3"
  },
  "language_info": {
   "codemirror_mode": {
    "name": "ipython",
    "version": 3
   },
   "file_extension": ".py",
   "mimetype": "text/x-python",
   "name": "python",
   "nbconvert_exporter": "python",
   "pygments_lexer": "ipython3",
   "version": "3.10.10"
  }
 },
 "nbformat": 4,
 "nbformat_minor": 5
}
